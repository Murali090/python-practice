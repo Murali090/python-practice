{
  "cells": [
    {
      "cell_type": "markdown",
      "metadata": {
        "id": "view-in-github",
        "colab_type": "text"
      },
      "source": [
        "<a href=\"https://colab.research.google.com/github/Murali090/python-practice/blob/main/conversion_data_types_Copy2.ipynb\" target=\"_parent\"><img src=\"https://colab.research.google.com/assets/colab-badge.svg\" alt=\"Open In Colab\"/></a>"
      ]
    },
    {
      "cell_type": "code",
      "execution_count": null,
      "id": "66d4a70c",
      "metadata": {
        "id": "66d4a70c",
        "outputId": "a0b390d1-9414-4b05-929a-043e5cfa7c0c"
      },
      "outputs": [
        {
          "name": "stdout",
          "output_type": "stream",
          "text": [
            "10\n",
            "<class 'int'>\n",
            "10\n",
            "<class 'str'>\n",
            "10.0\n",
            "<class 'float'>\n",
            "True\n",
            "<class 'bool'>\n",
            "(10+0j)\n",
            "<class 'complex'>\n"
          ]
        }
      ],
      "source": [
        "a=10\n",
        "print(a)\n",
        "print(type(a))\n",
        "b=str(a)\n",
        "print(b)\n",
        "print(type(b))\n",
        "c=float(a)\n",
        "print(c)\n",
        "print(type(c))\n",
        "d=bool(a)\n",
        "print(d)\n",
        "print(type(d))\n",
        "e=complex(a)\n",
        "print(e)\n",
        "print(type(e))\n",
        "\n",
        "\n"
      ]
    },
    {
      "cell_type": "code",
      "execution_count": null,
      "id": "4cc78b87",
      "metadata": {
        "id": "4cc78b87",
        "outputId": "44a9493e-aca1-47e6-c8df-3e80ba64500c"
      },
      "outputs": [
        {
          "name": "stdout",
          "output_type": "stream",
          "text": [
            "<class 'str'>\n",
            "10\n",
            "<class 'int'>\n",
            "10.0\n",
            "<class 'float'>\n",
            "True\n",
            "<class 'bool'>\n",
            "(10+0j)\n",
            "<class 'complex'>\n"
          ]
        }
      ],
      "source": [
        "a='10'\n",
        "print(type(a))\n",
        "b=int(a)\n",
        "print(b)    #cant convert alphabets into  integers,instead give digits from 0-9.\n",
        "print(type(b))\n",
        "c=float(a)\n",
        "print(c)\n",
        "print(type(c))\n",
        "d=bool(a)\n",
        "print(d)\n",
        "print(type(d))\n",
        "e=complex(a)\n",
        "print(e)\n",
        "print(type(e))\n"
      ]
    },
    {
      "cell_type": "markdown",
      "id": "7d68acf9",
      "metadata": {
        "id": "7d68acf9"
      },
      "source": [
        "# converting float into other data types\n"
      ]
    },
    {
      "cell_type": "code",
      "execution_count": null,
      "id": "55cb1615",
      "metadata": {
        "id": "55cb1615",
        "outputId": "2620e790-c2f8-468f-f800-c21933e6fdc6"
      },
      "outputs": [
        {
          "name": "stdout",
          "output_type": "stream",
          "text": [
            "<class 'float'>\n",
            "20.2\n",
            "<class 'str'>\n",
            "20\n",
            "<class 'int'>\n",
            "True\n",
            "<class 'bool'>\n",
            "(20.2+0j)\n",
            "<class 'complex'>\n"
          ]
        }
      ],
      "source": [
        "a=20.2\n",
        "print(type(a))\n",
        "b=str(a)\n",
        "print(b)\n",
        "print(type(b))\n",
        "c=int(a)\n",
        "print(c)\n",
        "print(type(c))\n",
        "d=bool(a)\n",
        "print(d)\n",
        "print(type(d))\n",
        "e=complex(a)\n",
        "print(e)\n",
        "print(type(e))"
      ]
    },
    {
      "cell_type": "markdown",
      "id": "736a5b17",
      "metadata": {
        "id": "736a5b17"
      },
      "source": [
        "# converting complex into other data types"
      ]
    },
    {
      "cell_type": "code",
      "execution_count": null,
      "id": "a6866368",
      "metadata": {
        "id": "a6866368",
        "outputId": "0e808040-944e-4437-ec39-9c4f1e01d8a5"
      },
      "outputs": [
        {
          "ename": "NameError",
          "evalue": "name 'i' is not defined",
          "output_type": "error",
          "traceback": [
            "\u001b[1;31m---------------------------------------------------------------------------\u001b[0m",
            "\u001b[1;31mNameError\u001b[0m                                 Traceback (most recent call last)",
            "\u001b[1;32m~\\AppData\\Local\\Temp/ipykernel_8096/3644111431.py\u001b[0m in \u001b[0;36m<module>\u001b[1;34m\u001b[0m\n\u001b[1;32m----> 1\u001b[1;33m \u001b[0ma\u001b[0m\u001b[1;33m=\u001b[0m\u001b[1;36m10\u001b[0m\u001b[1;33m+\u001b[0m\u001b[0mi\u001b[0m      \u001b[1;31m#complex cannot be converted\u001b[0m\u001b[1;33m\u001b[0m\u001b[1;33m\u001b[0m\u001b[0m\n\u001b[0m\u001b[0;32m      2\u001b[0m \u001b[0mprint\u001b[0m\u001b[1;33m(\u001b[0m\u001b[0mtype\u001b[0m\u001b[1;33m(\u001b[0m\u001b[0ma\u001b[0m\u001b[1;33m)\u001b[0m\u001b[1;33m)\u001b[0m\u001b[1;33m\u001b[0m\u001b[1;33m\u001b[0m\u001b[0m\n\u001b[0;32m      3\u001b[0m \u001b[1;33m\u001b[0m\u001b[0m\n\u001b[0;32m      4\u001b[0m \u001b[0mc\u001b[0m\u001b[1;33m=\u001b[0m\u001b[0mstr\u001b[0m\u001b[1;33m(\u001b[0m\u001b[0ma\u001b[0m\u001b[1;33m)\u001b[0m\u001b[1;33m\u001b[0m\u001b[1;33m\u001b[0m\u001b[0m\n\u001b[0;32m      5\u001b[0m \u001b[0mprint\u001b[0m\u001b[1;33m(\u001b[0m\u001b[0mc\u001b[0m\u001b[1;33m)\u001b[0m\u001b[1;33m\u001b[0m\u001b[1;33m\u001b[0m\u001b[0m\n",
            "\u001b[1;31mNameError\u001b[0m: name 'i' is not defined"
          ]
        }
      ],
      "source": [
        "a=2+i3      #complex cannot be converted \n",
        "print(type(a))\n",
        "b=int(a)\n",
        "print(b)\n",
        "print(type(b))\n",
        "c=str(a)\n",
        "print(c)\n",
        "print(type(c))\n",
        "d=float(a)\n",
        "print(d)\n",
        "print(type(d))\n",
        "e=bool(a)\n",
        "print(e)\n",
        "print(type(e))"
      ]
    },
    {
      "cell_type": "code",
      "execution_count": null,
      "id": "c97a7324",
      "metadata": {
        "id": "c97a7324"
      },
      "outputs": [],
      "source": [
        ""
      ]
    }
  ],
  "metadata": {
    "kernelspec": {
      "display_name": "Python 3 (ipykernel)",
      "language": "python",
      "name": "python3"
    },
    "language_info": {
      "codemirror_mode": {
        "name": "ipython",
        "version": 3
      },
      "file_extension": ".py",
      "mimetype": "text/x-python",
      "name": "python",
      "nbconvert_exporter": "python",
      "pygments_lexer": "ipython3",
      "version": "3.9.7"
    },
    "colab": {
      "name": "conversion data types-Copy2.ipynb",
      "provenance": [],
      "include_colab_link": true
    }
  },
  "nbformat": 4,
  "nbformat_minor": 5
}