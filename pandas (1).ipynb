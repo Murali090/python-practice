{
 "cells": [
  {
   "cell_type": "code",
   "execution_count": 1,
   "id": "7260a1d0",
   "metadata": {},
   "outputs": [],
   "source": [
    "import pandas"
   ]
  },
  {
   "cell_type": "code",
   "execution_count": 4,
   "id": "8f6be7b9",
   "metadata": {},
   "outputs": [
    {
     "name": "stdout",
     "output_type": "stream",
     "text": [
      "    cars  passings\n",
      "0    BMW         3\n",
      "1  Volvo         7\n",
      "2   Ford         2\n"
     ]
    }
   ],
   "source": [
    "import pandas as pd\n",
    "\n",
    "mydataset = {\n",
    "  'cars': [\"BMW\", \"Volvo\", \"Ford\"],\n",
    "  'passings': [3, 7, 2]\n",
    "}\n",
    "\n",
    "myvar = pd.DataFrame(mydataset)\n",
    "\n",
    "print(myvar)"
   ]
  },
  {
   "cell_type": "code",
   "execution_count": 5,
   "id": "34d96e76",
   "metadata": {},
   "outputs": [
    {
     "name": "stdout",
     "output_type": "stream",
     "text": [
      "0    1\n",
      "1    7\n",
      "2    2\n",
      "dtype: int64\n"
     ]
    }
   ],
   "source": [
    "import pandas as pd\n",
    "\n",
    "a = [1, 7, 2]\n",
    "\n",
    "myvar = pd.Series(a)\n",
    "\n",
    "print(myvar)"
   ]
  },
  {
   "cell_type": "code",
   "execution_count": 6,
   "id": "bb75b61c",
   "metadata": {},
   "outputs": [
    {
     "name": "stdout",
     "output_type": "stream",
     "text": [
      "        names  age gender mobile numbers\n",
      "0  muralidhar   18      M            nil\n",
      "1    suribabu   80      M     9704514020\n",
      "2     sailaja   52      F     8985650387\n"
     ]
    }
   ],
   "source": [
    "import pandas as family\n",
    "\n",
    "details={\n",
    "    \"names\":[\"muralidhar\",\"suribabu\",\"sailaja\"],\n",
    "    \"age\":[18,80,52],\n",
    "    \"gender\":[\"M\",\"M\",\"F\"],\n",
    "    \"mobile numbers\":[\"nil\",9704514020,8985650387]\n",
    "}\n",
    "\n",
    "fdetails=pd.DataFrame(details)\n",
    "print(fdetails)"
   ]
  },
  {
   "cell_type": "code",
   "execution_count": 25,
   "id": "39d38c2c",
   "metadata": {},
   "outputs": [
    {
     "name": "stdout",
     "output_type": "stream",
     "text": [
      "muralidhar    18\n",
      "dtype: int64\n"
     ]
    }
   ],
   "source": [
    "import pandas as details\n",
    "\n",
    "fhistory={\"muralidhar\":18,\"suribabu\":80,\"sailaja\":52}\n",
    "\n",
    "b=details.Series(fhistory,index=[\"muralidhar\"])\n",
    "print(b)\n",
    "\n"
   ]
  },
  {
   "cell_type": "code",
   "execution_count": 27,
   "id": "8b30bedd",
   "metadata": {},
   "outputs": [
    {
     "name": "stdout",
     "output_type": "stream",
     "text": [
      "a    venky piky\n",
      "b    muralidhar\n",
      "dtype: object\n"
     ]
    }
   ],
   "source": [
    "import pandas as c\n",
    "\n",
    "names=[\"venky piky\",\"muralidhar\"]\n",
    "\n",
    "b=c.Series(names,index=[\"a\",\"b\"])\n",
    "print(b)"
   ]
  },
  {
   "cell_type": "code",
   "execution_count": null,
   "id": "7cbb5194",
   "metadata": {},
   "outputs": [],
   "source": [
    "import pandas as pd\n",
    "\n",
    "data = {\n",
    "  \"calories\": [420, 380, 390],\n",
    "  \"duration\": [50, 40, 45]\n",
    "}\n",
    "\n",
    "#load data into a DataFrame object:\n",
    "df = pd.DataFrame(data)\n",
    "\n",
    "print(df) "
   ]
  },
  {
   "cell_type": "code",
   "execution_count": 32,
   "id": "6a66abee",
   "metadata": {},
   "outputs": [
    {
     "name": "stdout",
     "output_type": "stream",
     "text": [
      "names      bently\n",
      "numbers       105\n",
      "Name: b, dtype: object\n"
     ]
    }
   ],
   "source": [
    "import pandas as names\n",
    "cnames={\n",
    "    \"names\":[\"ferrari\",\"bently\",\"aston martin lagonda\"],\n",
    "    \"numbers\":[52,105,45]\n",
    "}\n",
    "b=names.DataFrame(cnames,index=[\"a\",\"b\",\"c\"])\n",
    "print(b.loc[\"b\"])"
   ]
  },
  {
   "cell_type": "code",
   "execution_count": null,
   "id": "bf92a791",
   "metadata": {},
   "outputs": [],
   "source": []
  }
 ],
 "metadata": {
  "kernelspec": {
   "display_name": "Python 3 (ipykernel)",
   "language": "python",
   "name": "python3"
  },
  "language_info": {
   "codemirror_mode": {
    "name": "ipython",
    "version": 3
   },
   "file_extension": ".py",
   "mimetype": "text/x-python",
   "name": "python",
   "nbconvert_exporter": "python",
   "pygments_lexer": "ipython3",
   "version": "3.9.7"
  }
 },
 "nbformat": 4,
 "nbformat_minor": 5
}
