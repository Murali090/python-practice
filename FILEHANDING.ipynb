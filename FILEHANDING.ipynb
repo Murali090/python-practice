{
 "cells": [
  {
   "cell_type": "code",
   "execution_count": 1,
   "id": "835dd23c",
   "metadata": {},
   "outputs": [
    {
     "name": "stdout",
     "output_type": "stream",
     "text": [
      "muralidhar\n"
     ]
    }
   ],
   "source": [
    "#opening a file\n",
    "f=open(\"E:\\\\muralidhar.txt\",\"r\")\n",
    "print(f.read())"
   ]
  },
  {
   "cell_type": "code",
   "execution_count": 2,
   "id": "80a262b5",
   "metadata": {},
   "outputs": [
    {
     "name": "stdout",
     "output_type": "stream",
     "text": [
      "mural\n",
      "idhar\n"
     ]
    }
   ],
   "source": [
    "#reading a file,with limits and without \n",
    "f=open(\"E:\\\\muralidhar.txt\",\"r\")\n",
    "print(f.read(5))\n",
    "print(f.read())"
   ]
  },
  {
   "cell_type": "code",
   "execution_count": 5,
   "id": "57500e85",
   "metadata": {},
   "outputs": [
    {
     "name": "stdout",
     "output_type": "stream",
     "text": [
      "muralidhar\n",
      "\n",
      "my age is 18 and i am eligible for voting\n",
      "\n",
      "\"It is what it is\"\n"
     ]
    }
   ],
   "source": [
    "#using loop\n",
    "f=open(\"E:\\\\muralidhar.txt\",\"r\")\n",
    "for x in f:\n",
    "    print(x)"
   ]
  },
  {
   "cell_type": "code",
   "execution_count": 9,
   "id": "6dc05788",
   "metadata": {},
   "outputs": [
    {
     "name": "stdout",
     "output_type": "stream",
     "text": [
      "muralidhar\n",
      "\n"
     ]
    }
   ],
   "source": [
    "#reading line\n",
    "f=open(\"E:\\\\muralidhar.txt\",\"r\")\n",
    "print(f.readline())\n",
    "f.close()"
   ]
  },
  {
   "cell_type": "markdown",
   "id": "74c26493",
   "metadata": {},
   "source": [
    "# writing mode\n"
   ]
  },
  {
   "cell_type": "code",
   "execution_count": 17,
   "id": "d27bb43c",
   "metadata": {},
   "outputs": [
    {
     "name": "stdout",
     "output_type": "stream",
     "text": [
      "muralidhar\n",
      "my age is 18 and i am eligible for voting\n",
      "\"It is what it is\"\n",
      " \n",
      " i study in GITAM as CSE student with specilization AIML\n",
      " i come by bus\n",
      " i study in GITAM as CSE student with specilization AIML\n",
      "muralidhar\n",
      "my age is 18 and i am eligible for voting\n",
      "\"It is what it is\"\n",
      " \n",
      " i study in GITAM as CSE student with specilization AIML\n",
      " i come by bus\n",
      " i study in GITAM as CSE student with specilization AIML\n",
      " i come by bus\n"
     ]
    }
   ],
   "source": [
    "f=open(\"E:\\\\muralidhar.txt\",\"a\")\n",
    "f.write(\"\\n i study in GITAM as CSE student with specilization AIML\")\n",
    "f.close()\n",
    "\n",
    "#open and read the file after the appending:\n",
    "f=open(\"E:\\\\muralidhar.txt\",\"r\")\n",
    "print(f.read())\n",
    "\n",
    "f=open(\"E:\\\\muralidhar.txt\",\"a\")\n",
    "f.write(\"\\n i come by bus\")\n",
    "f.close()\n",
    "\n",
    "f=open(\"E:\\\\muralidhar.txt\",\"r\")\n",
    "print(f.read())"
   ]
  },
  {
   "cell_type": "code",
   "execution_count": 21,
   "id": "16ca7a02",
   "metadata": {},
   "outputs": [
    {
     "name": "stdout",
     "output_type": "stream",
     "text": [
      "muralidhar\n",
      "my age is 18 and i am eligible for voting\n",
      "\"It is what it is\"\n",
      " \n",
      " i study in GITAM as CSE student with specilization AIML\n",
      " \n",
      " i come by bus with RTC bus pass\n"
     ]
    }
   ],
   "source": [
    "#appending files\n",
    "f=open(\"E:\\\\muralidhar.txt\",\"a\")\n",
    "f.write(\"\\n i come by bus with RTC bus pass\")\n",
    "f.close()\n",
    "\n",
    "f=open(\"E:\\\\muralidhar.txt\",\"r\")\n",
    "print(f.read())"
   ]
  },
  {
   "cell_type": "code",
   "execution_count": 6,
   "id": "e405014d",
   "metadata": {},
   "outputs": [
    {
     "name": "stdout",
     "output_type": "stream",
     "text": [
      "i am darth vader\n",
      " My master is minister palpitine\n"
     ]
    }
   ],
   "source": [
    "#creating files and writing them f=open(\"E:\\\\Darth vader.txt\",\"x\") creates a new file\n",
    "f=open(\"E:\\\\Darth vader.txt\",\"r\")\n",
    "print(f.read())\n",
    "\n",
    "f=open(\"E:\\\\Darth vader.txt\",\"a\")\n",
    "f.write(\"\\n My master is minister palpitine\")\n",
    "f.close()"
   ]
  },
  {
   "cell_type": "code",
   "execution_count": 8,
   "id": "2c742a9c",
   "metadata": {},
   "outputs": [
    {
     "name": "stdout",
     "output_type": "stream",
     "text": [
      "i am hit man\n"
     ]
    }
   ],
   "source": [
    "f=(\"Hitmanlog.txt\",\"x\")\n",
    "f=open(\"Hitmanlog.txt\",\"w\")\n",
    "f.write(\"i am hit man\")\n",
    "f.close()\n",
    "\n",
    "f=open(\"Hitmanlog.txt\",\"r\")\n",
    "print(f.read())"
   ]
  },
  {
   "cell_type": "code",
   "execution_count": null,
   "id": "d45eadc5",
   "metadata": {},
   "outputs": [],
   "source": []
  }
 ],
 "metadata": {
  "kernelspec": {
   "display_name": "Python 3 (ipykernel)",
   "language": "python",
   "name": "python3"
  },
  "language_info": {
   "codemirror_mode": {
    "name": "ipython",
    "version": 3
   },
   "file_extension": ".py",
   "mimetype": "text/x-python",
   "name": "python",
   "nbconvert_exporter": "python",
   "pygments_lexer": "ipython3",
   "version": "3.9.7"
  }
 },
 "nbformat": 4,
 "nbformat_minor": 5
}
