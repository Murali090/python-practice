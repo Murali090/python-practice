{
  "nbformat": 4,
  "nbformat_minor": 0,
  "metadata": {
    "colab": {
      "name": "26-4-22.ipynb",
      "provenance": [],
      "collapsed_sections": [],
      "authorship_tag": "ABX9TyMLu6dEfjne3QiqRppwFLgc",
      "include_colab_link": true
    },
    "kernelspec": {
      "name": "python3",
      "display_name": "Python 3"
    },
    "language_info": {
      "name": "python"
    }
  },
  "cells": [
    {
      "cell_type": "markdown",
      "metadata": {
        "id": "view-in-github",
        "colab_type": "text"
      },
      "source": [
        "<a href=\"https://colab.research.google.com/github/Murali090/python-practice/blob/main/26_4_22.ipynb\" target=\"_parent\"><img src=\"https://colab.research.google.com/assets/colab-badge.svg\" alt=\"Open In Colab\"/></a>"
      ]
    },
    {
      "cell_type": "code",
      "execution_count": null,
      "metadata": {
        "id": "Ia6MUOaIakBX"
      },
      "outputs": [],
      "source": [
        "#write a progam to read an month in interger and display days for that month\n",
        "#write a py  program to print even length words in a string\n",
        "#sample:in given input \" this is python class\"\n",
        "#output:this,is,python\n",
        "#write a pthon program to capitalize first and last letter of a string\n",
        "#ex:hello world\n",
        "#output:Hello worlD\n",
        "#write a program a) read a string from user display first letter with capital letter\n",
        "#write a python program to convert a list of multilpe integers into string \n",
        "#input print(com(11,22,30)) output:112230\n",
        "#write a program to prime numebers using functions "
      ]
    },
    {
      "cell_type": "code",
      "source": [
        "#write a py  program to print even length words in a string\n",
        "a=\" this is python class\"\n",
        "b=a.split()\n",
        "for c in b:\n",
        "  if len(c)%2==0:\n",
        "    print(c)"
      ],
      "metadata": {
        "colab": {
          "base_uri": "https://localhost:8080/"
        },
        "id": "MuSiy8BDd24i",
        "outputId": "40e9c7ea-d401-4dda-ab67-ece1309fe8a2"
      },
      "execution_count": 6,
      "outputs": [
        {
          "output_type": "stream",
          "name": "stdout",
          "text": [
            "this\n",
            "is\n",
            "python\n"
          ]
        }
      ]
    },
    {
      "cell_type": "code",
      "source": [
        "#write a program to prime numebers using functions \n",
        "def prime(a,b):\n",
        "  a=int(input())\n",
        "  b=int(input())\n",
        "  for x in range(a,b+1):\n",
        "    if x>1:\n",
        "      for i in range(2,x):\n",
        "        if x%i==0:\n",
        "          break\n",
        "      else:\n",
        "        print(x)\n",
        "prime(a,b);"
      ],
      "metadata": {
        "colab": {
          "base_uri": "https://localhost:8080/",
          "height": 200
        },
        "id": "doWzxmKufoMi",
        "outputId": "82ae80be-1071-4d59-d5cf-f6bad028a9f8"
      },
      "execution_count": 4,
      "outputs": [
        {
          "output_type": "error",
          "ename": "NameError",
          "evalue": "ignored",
          "traceback": [
            "\u001b[0;31m---------------------------------------------------------------------------\u001b[0m",
            "\u001b[0;31mNameError\u001b[0m                                 Traceback (most recent call last)",
            "\u001b[0;32m<ipython-input-4-eb20ff7d6c25>\u001b[0m in \u001b[0;36m<module>\u001b[0;34m()\u001b[0m\n\u001b[1;32m     10\u001b[0m       \u001b[0;32melse\u001b[0m\u001b[0;34m:\u001b[0m\u001b[0;34m\u001b[0m\u001b[0;34m\u001b[0m\u001b[0m\n\u001b[1;32m     11\u001b[0m         \u001b[0mprint\u001b[0m\u001b[0;34m(\u001b[0m\u001b[0mx\u001b[0m\u001b[0;34m)\u001b[0m\u001b[0;34m\u001b[0m\u001b[0;34m\u001b[0m\u001b[0m\n\u001b[0;32m---> 12\u001b[0;31m \u001b[0mprime\u001b[0m\u001b[0;34m(\u001b[0m\u001b[0ma\u001b[0m\u001b[0;34m,\u001b[0m\u001b[0mb\u001b[0m\u001b[0;34m)\u001b[0m\u001b[0;34m;\u001b[0m\u001b[0;34m\u001b[0m\u001b[0;34m\u001b[0m\u001b[0m\n\u001b[0m",
            "\u001b[0;31mNameError\u001b[0m: name 'a' is not defined"
          ]
        }
      ]
    },
    {
      "cell_type": "code",
      "source": [
        "#write a python program to capitalize first and last letter of a string.\n",
        "a=\"this is python class\"\n",
        "print(a[0].upper()+a[1:len(a)-1]+a[len(a)-1]).upper())"
      ],
      "metadata": {
        "colab": {
          "base_uri": "https://localhost:8080/",
          "height": 135
        },
        "id": "zmiCrUwFnW8C",
        "outputId": "6e214ac1-71f9-4249-e665-162a314d6161"
      },
      "execution_count": null,
      "outputs": [
        {
          "output_type": "error",
          "ename": "SyntaxError",
          "evalue": "ignored",
          "traceback": [
            "\u001b[0;36m  File \u001b[0;32m\"<ipython-input-50-dbb09620ae76>\"\u001b[0;36m, line \u001b[0;32m3\u001b[0m\n\u001b[0;31m    print(a[0].upper()+a[1:len(a)-1]+a[len(a)-1]).upper())\u001b[0m\n\u001b[0m                                                         ^\u001b[0m\n\u001b[0;31mSyntaxError\u001b[0m\u001b[0;31m:\u001b[0m invalid syntax\n"
          ]
        }
      ]
    },
    {
      "cell_type": "code",
      "source": [
        "#write a program a) read a string from user display first letter with capital letter\n",
        "a=str(input())\n",
        "b=a[0].upper()\n",
        "print(b)"
      ],
      "metadata": {
        "id": "oR9azQn5oXCC",
        "colab": {
          "base_uri": "https://localhost:8080/"
        },
        "outputId": "78592033-ebac-4a8b-e89a-c2e827acdf58"
      },
      "execution_count": 7,
      "outputs": [
        {
          "output_type": "stream",
          "name": "stdout",
          "text": [
            "muralidhar\n",
            "M\n"
          ]
        }
      ]
    },
    {
      "cell_type": "code",
      "source": [
        "#write a progam to read an month in interger and display days for that month\n",
        "a=int(input())\n",
        "if a==2:\n",
        "  print('28 or 29 days')\n",
        "if a>1 and a<=12 and a!=2:\n",
        "  if a%2==0:\n",
        "    print('30 days')\n",
        "  elif a%2!=0:\n",
        "    print(\"31 days\")"
      ],
      "metadata": {
        "colab": {
          "base_uri": "https://localhost:8080/"
        },
        "id": "-cirp2LL1MEs",
        "outputId": "523196b2-5228-4bf7-da6e-4b983a412de3"
      },
      "execution_count": 11,
      "outputs": [
        {
          "output_type": "stream",
          "name": "stdout",
          "text": [
            "12\n",
            "30 days\n"
          ]
        }
      ]
    },
    {
      "cell_type": "code",
      "source": [
        ""
      ],
      "metadata": {
        "id": "-M7VRqCV3l6m"
      },
      "execution_count": null,
      "outputs": []
    }
  ]
}