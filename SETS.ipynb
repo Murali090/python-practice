{
  "nbformat": 4,
  "nbformat_minor": 0,
  "metadata": {
    "colab": {
      "name": "SETS.ipynb",
      "provenance": [],
      "authorship_tag": "ABX9TyNHb3Z8xRInE/ZEvHckGE0b",
      "include_colab_link": true
    },
    "kernelspec": {
      "name": "python3",
      "display_name": "Python 3"
    },
    "language_info": {
      "name": "python"
    }
  },
  "cells": [
    {
      "cell_type": "markdown",
      "metadata": {
        "id": "view-in-github",
        "colab_type": "text"
      },
      "source": [
        "<a href=\"https://colab.research.google.com/github/Murali090/python-practice/blob/main/SETS.ipynb\" target=\"_parent\"><img src=\"https://colab.research.google.com/assets/colab-badge.svg\" alt=\"Open In Colab\"/></a>"
      ]
    },
    {
      "cell_type": "code",
      "execution_count": 23,
      "metadata": {
        "colab": {
          "base_uri": "https://localhost:8080/",
          "height": 480
        },
        "id": "3FWqSC9OSpNJ",
        "outputId": "ad4b52b9-f49b-4e69-986c-d06973891071"
      },
      "outputs": [
        {
          "output_type": "stream",
          "name": "stdout",
          "text": [
            "3\n",
            "hemanth\n",
            "muralidhar\n",
            "venky\n",
            "False\n",
            "{'pedaa mohit', 'hemanth', 'muralidhar', 'venky'}\n",
            "{'muralidhar', 'venky', 'tiger shroof', 'pedaa mohit', 'hemanth', 'aravind', 'kaushik'}\n",
            "{1, 2, 3, 4, 'tiger shroof', 5, 'pedaa mohit', 'muralidhar', 'hemanth', 'aravind', 'venky', 'kaushik'}\n",
            "{'hemanth', 'muralidhar'}\n",
            "hemanth\n",
            "{'muralidhar', 'venky'}\n",
            "set()\n",
            "{'muralidhar'}\n"
          ]
        },
        {
          "output_type": "error",
          "ename": "KeyError",
          "evalue": "ignored",
          "traceback": [
            "\u001b[0;31m---------------------------------------------------------------------------\u001b[0m",
            "\u001b[0;31mKeyError\u001b[0m                                  Traceback (most recent call last)",
            "\u001b[0;32m<ipython-input-23-a6fe18afef12>\u001b[0m in \u001b[0;36m<module>\u001b[0;34m()\u001b[0m\n\u001b[1;32m     44\u001b[0m \u001b[0;34m\u001b[0m\u001b[0m\n\u001b[1;32m     45\u001b[0m \u001b[0ma\u001b[0m\u001b[0;34m=\u001b[0m\u001b[0;34m{\u001b[0m\u001b[0;34m'muralidhar'\u001b[0m\u001b[0;34m,\u001b[0m\u001b[0;34m'venky'\u001b[0m\u001b[0;34m,\u001b[0m\u001b[0;34m'hemanth'\u001b[0m\u001b[0;34m,\u001b[0m\u001b[0;34m'venky'\u001b[0m\u001b[0;34m}\u001b[0m\u001b[0;34m\u001b[0m\u001b[0;34m\u001b[0m\u001b[0m\n\u001b[0;32m---> 46\u001b[0;31m \u001b[0ma\u001b[0m\u001b[0;34m.\u001b[0m\u001b[0mremove\u001b[0m\u001b[0;34m(\u001b[0m\u001b[0;34m'aravind'\u001b[0m\u001b[0;34m)\u001b[0m\u001b[0;34m\u001b[0m\u001b[0;34m\u001b[0m\u001b[0m\n\u001b[0m\u001b[1;32m     47\u001b[0m \u001b[0mprint\u001b[0m\u001b[0;34m(\u001b[0m\u001b[0ma\u001b[0m\u001b[0;34m)\u001b[0m\u001b[0;34m\u001b[0m\u001b[0;34m\u001b[0m\u001b[0m\n\u001b[1;32m     48\u001b[0m \u001b[0ma\u001b[0m\u001b[0;34m=\u001b[0m\u001b[0;34m{\u001b[0m\u001b[0;34m'muralidhar'\u001b[0m\u001b[0;34m,\u001b[0m\u001b[0;34m'venky'\u001b[0m\u001b[0;34m,\u001b[0m\u001b[0;34m'hemanth'\u001b[0m\u001b[0;34m}\u001b[0m\u001b[0;34m\u001b[0m\u001b[0;34m\u001b[0m\u001b[0m\n",
            "\u001b[0;31mKeyError\u001b[0m: 'aravind'"
          ]
        }
      ],
      "source": [
        "from sys import api_version\n",
        "#SETS DOESNOT ALLOW TO ADD,REMOVE,DUPLICATES THE DATA.\n",
        "a={'muralidhar','venky','hemanth'}\n",
        "\n",
        "print(len(a))\n",
        "#TO ACCESS THE SET WE CAN USE FOR LOOP FOR ACESSING ALL ELELMENTS.\n",
        "for x in a:\n",
        "  print(x)\n",
        "print(\"apple\" in a)\n",
        "#Once a set is created, you cannot change its items, but you can add new items.\n",
        "#TO ADD A SET USE add() method.\n",
        "a.add('pedaa mohit')\n",
        "print(a)\n",
        "b={'aravind','kaushik','tiger shroof'}\n",
        "a.update(b)\n",
        "print(a)\n",
        "#The object in the update() method does not have to be a set, it can be any iterable object (tuples, lists, dictionaries etc.).\n",
        "c=[1,2,3,4,5]\n",
        "a.update(c)\n",
        "print(a)\n",
        "\n",
        "\n",
        "#REMOVE ITEM or we can USE DISCARD METHOD \n",
        "a={'muralidhar','venky','hemanth','hemanth'}\n",
        "a.remove('venky')\n",
        "print(a)\n",
        "\n",
        "#POP CAN ALSO BE USED BUT WE NEED ORDER TO REMOVE AN ELEMENT WK WE DONT HAVE A ORDER IN SET  SO LAST ITEM WILL BE REMOVED \n",
        "a={'muralidhar','venky','hemanth'}\n",
        "d=a.pop()\n",
        "print(d)\n",
        "print(a)\n",
        "\n",
        "#clear command\n",
        "a={'muralidhar','venky','hemanth'}\n",
        "a.clear()\n",
        "print(a)\n",
        "\n",
        "#INTERSECTION RETURNS THE COMMON VALUE IN MANY SETS OR TWO SETS\n",
        "a={'muralidhar','venky','hemanth'}\n",
        "b={'muralidhar','aravind','mohit'}\n",
        "e=a.intersection(b)\n",
        "print(e)\n",
        "\n",
        "a={'muralidhar','venky','hemanth','venky'}\n",
        "a.remove('aravind')\n",
        "print(a)\n",
        "a={'muralidhar','venky','hemanth'}\n",
        "a.discard('aravind')\n",
        "print(a)\n"
      ]
    },
    {
      "cell_type": "code",
      "source": [
        ""
      ],
      "metadata": {
        "id": "SNvR_fKXUV3F"
      },
      "execution_count": 10,
      "outputs": []
    }
  ]
}