{
  "nbformat": 4,
  "nbformat_minor": 0,
  "metadata": {
    "colab": {
      "name": "list.ipynb",
      "provenance": [],
      "collapsed_sections": [],
      "authorship_tag": "ABX9TyNBT8+XtOrJEntXoa0jwnaw",
      "include_colab_link": true
    },
    "kernelspec": {
      "name": "python3",
      "display_name": "Python 3"
    },
    "language_info": {
      "name": "python"
    }
  },
  "cells": [
    {
      "cell_type": "markdown",
      "metadata": {
        "id": "view-in-github",
        "colab_type": "text"
      },
      "source": [
        "<a href=\"https://colab.research.google.com/github/Murali090/python-practice/blob/main/list.ipynb\" target=\"_parent\"><img src=\"https://colab.research.google.com/assets/colab-badge.svg\" alt=\"Open In Colab\"/></a>"
      ]
    },
    {
      "cell_type": "markdown",
      "source": [
        "append to add but it will be added in last.\n",
        "using insert we can add any where.\n"
      ],
      "metadata": {
        "id": "HwmqajM0H0rr"
      }
    },
    {
      "cell_type": "code",
      "execution_count": 60,
      "metadata": {
        "colab": {
          "base_uri": "https://localhost:8080/"
        },
        "id": "VSOogMkQ4Zpd",
        "outputId": "ad84d24e-7cd8-4459-b95b-adbb469a1360"
      },
      "outputs": [
        {
          "output_type": "stream",
          "name": "stdout",
          "text": [
            "['watermelon']\n",
            "grapes\n",
            "starfruit\n",
            "['watermelon', 'apple', 'starfruit']\n",
            "['orange', 'grapes']\n",
            "['watermelon', 'apple', 'blueberry', 'starfruit', 'orange', 'grapes']\n",
            "['watermelon', 'apple', 'blueberry', 'starfruit', 'orange', 'grapes', 'venky pinky']\n",
            "['venky pinky', 'grapes', 'orange', 'starfruit', 'blueberry', 'apple', 'watermelon']\n",
            "['apple', 'blueberry', 'grapes', 'orange', 'starfruit', 'venky pinky', 'watermelon']\n",
            "7\n",
            "['apple', 'blueberry', 'grapes', 'orange', 'starfruit', 'watermelon']\n"
          ]
        }
      ],
      "source": [
        "fruit=['watermelon','apple','starfruit','orange','grapes']\n",
        "print(fruit[0:1])  \n",
        "print(fruit[4])\n",
        "print(fruit[-3])\n",
        "print(fruit[:3])\n",
        "print(fruit[3:])\n",
        "fruit[:2]\n",
        "fruit.insert(2,\"blueberry\")\n",
        "print(fruit)\n",
        "fruit.append(\"venky pinky\")\n",
        "print(fruit)\n",
        "fruit.reverse()\n",
        "print(fruit)\n",
        "fruit.sort()\n",
        "print(fruit)\n",
        "print(len(fruit))\n",
        "fruit.remove(\"venky pinky\")\n",
        "print(fruit)"
      ]
    },
    {
      "cell_type": "code",
      "source": [
        "\n",
        "my_list = ['p','r','o','b','e']\n",
        "\n",
        "\n",
        "print(my_list[3])\n",
        "\n",
        "\n",
        "print(my_list[-1])"
      ],
      "metadata": {
        "colab": {
          "base_uri": "https://localhost:8080/"
        },
        "id": "5b7ei_B989Ba",
        "outputId": "f328ed0a-3548-4983-c284-cb2c3eb1ae11"
      },
      "execution_count": 29,
      "outputs": [
        {
          "output_type": "stream",
          "name": "stdout",
          "text": [
            "b\n",
            "e\n"
          ]
        }
      ]
    },
    {
      "cell_type": "code",
      "source": [
        "a=[1,2,3,4,5,6,7]\n",
        "a[:3]"
      ],
      "metadata": {
        "colab": {
          "base_uri": "https://localhost:8080/"
        },
        "id": "Bc_P6hS59LJv",
        "outputId": "196aac72-1323-4de5-d6e4-15be880a0af5"
      },
      "execution_count": 33,
      "outputs": [
        {
          "output_type": "execute_result",
          "data": {
            "text/plain": [
              "[1, 2, 3]"
            ]
          },
          "metadata": {},
          "execution_count": 33
        }
      ]
    },
    {
      "cell_type": "code",
      "source": [
        "\n",
        "my_list = ['p', 'r', 'o', 'b', 'l', 'e', 'm']\n",
        "\n",
        "\n",
        "del my_list[2]\n",
        "\n",
        "print(my_list)\n",
        "\n",
        "\n",
        " \n",
        "\n",
        "print(my_list)\n",
        "\n",
        "\n",
        "\n",
        "print(my_list)"
      ],
      "metadata": {
        "colab": {
          "base_uri": "https://localhost:8080/",
          "height": 235
        },
        "id": "R5nJdvtP9vCg",
        "outputId": "0d30d4f1-a97e-4f6f-da06-5eea18e728bd"
      },
      "execution_count": 37,
      "outputs": [
        {
          "output_type": "stream",
          "name": "stdout",
          "text": [
            "['p', 'r', 'b', 'l', 'e', 'm']\n",
            "['p', 'm']\n"
          ]
        },
        {
          "output_type": "error",
          "ename": "NameError",
          "evalue": "ignored",
          "traceback": [
            "\u001b[0;31m---------------------------------------------------------------------------\u001b[0m",
            "\u001b[0;31mNameError\u001b[0m                                 Traceback (most recent call last)",
            "\u001b[0;32m<ipython-input-37-6c55746bc7c6>\u001b[0m in \u001b[0;36m<module>\u001b[0;34m()\u001b[0m\n\u001b[1;32m     14\u001b[0m \u001b[0;32mdel\u001b[0m \u001b[0mmy_list\u001b[0m\u001b[0;34m\u001b[0m\u001b[0;34m\u001b[0m\u001b[0m\n\u001b[1;32m     15\u001b[0m \u001b[0;34m\u001b[0m\u001b[0m\n\u001b[0;32m---> 16\u001b[0;31m \u001b[0mprint\u001b[0m\u001b[0;34m(\u001b[0m\u001b[0mmy_list\u001b[0m\u001b[0;34m)\u001b[0m\u001b[0;34m\u001b[0m\u001b[0;34m\u001b[0m\u001b[0m\n\u001b[0m",
            "\u001b[0;31mNameError\u001b[0m: name 'my_list' is not defined"
          ]
        }
      ]
    },
    {
      "cell_type": "code",
      "source": [
        "#number list \n",
        "num = [1]"
      ],
      "metadata": {
        "id": "VDtGEXE0AZPZ"
      },
      "execution_count": null,
      "outputs": []
    },
    {
      "cell_type": "code",
      "source": [
        "for i in range(5)\n",
        "   print(i)"
      ],
      "metadata": {
        "colab": {
          "base_uri": "https://localhost:8080/",
          "height": 130
        },
        "id": "BVgOaShJ-1-Z",
        "outputId": "20307853-0bb1-4256-c278-d9bc8850b5c8"
      },
      "execution_count": 43,
      "outputs": [
        {
          "output_type": "error",
          "ename": "SyntaxError",
          "evalue": "ignored",
          "traceback": [
            "\u001b[0;36m  File \u001b[0;32m\"<ipython-input-43-7e8e9cb8118a>\"\u001b[0;36m, line \u001b[0;32m1\u001b[0m\n\u001b[0;31m    for i in range(5)\u001b[0m\n\u001b[0m                     ^\u001b[0m\n\u001b[0;31mSyntaxError\u001b[0m\u001b[0;31m:\u001b[0m invalid syntax\n"
          ]
        }
      ]
    },
    {
      "cell_type": "code",
      "source": [
        ""
      ],
      "metadata": {
        "id": "sEq3FTurD-55"
      },
      "execution_count": null,
      "outputs": []
    }
  ]
}