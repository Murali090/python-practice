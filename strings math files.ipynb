{
  "nbformat": 4,
  "nbformat_minor": 0,
  "metadata": {
    "colab": {
      "name": "strings.ipynb",
      "provenance": [],
      "collapsed_sections": [],
      "authorship_tag": "ABX9TyPrA/byXxu8HbYl4yNgDMeP",
      "include_colab_link": true
    },
    "kernelspec": {
      "name": "python3",
      "display_name": "Python 3"
    },
    "language_info": {
      "name": "python"
    }
  },
  "cells": [
    {
      "cell_type": "markdown",
      "metadata": {
        "id": "view-in-github",
        "colab_type": "text"
      },
      "source": [
        "<a href=\"https://colab.research.google.com/github/Murali090/python-practice/blob/main/strings%20math%20files.ipynb\" target=\"_parent\"><img src=\"https://colab.research.google.com/assets/colab-badge.svg\" alt=\"Open In Colab\"/></a>"
      ]
    },
    {
      "cell_type": "code",
      "source": [
        "a=10\n",
        "print(a)\n",
        "print(type(a))\n",
        "b=str(a)\n",
        "print(b)\n",
        "print(type(b))\n",
        "c=float(a)\n",
        "print(c)\n",
        "print(type(c))\n"
      ],
      "metadata": {
        "colab": {
          "base_uri": "https://localhost:8080/"
        },
        "id": "iFIb10DidXLF",
        "outputId": "fe656613-089e-40d1-e621-6ad2a3dfe66e"
      },
      "execution_count": null,
      "outputs": [
        {
          "output_type": "stream",
          "name": "stdout",
          "text": [
            "10\n",
            "<class 'int'>\n",
            "10\n",
            "<class 'str'>\n",
            "10.0\n",
            "<class 'float'>\n"
          ]
        }
      ]
    },
    {
      "cell_type": "code",
      "source": [
        "n=\"python\"\n",
        "\n",
        "for characters in range(1,10):\n",
        "  print(characters)\n",
        "\n",
        "a = \"Hello, World!\"\n",
        "print(a[1])"
      ],
      "metadata": {
        "colab": {
          "base_uri": "https://localhost:8080/"
        },
        "id": "L09wU03T8G3J",
        "outputId": "e37dc89c-7920-42e9-d10a-88bbc458278f"
      },
      "execution_count": null,
      "outputs": [
        {
          "output_type": "stream",
          "name": "stdout",
          "text": [
            "1\n",
            "2\n",
            "3\n",
            "4\n",
            "5\n",
            "6\n",
            "7\n",
            "8\n",
            "9\n",
            "e\n"
          ]
        }
      ]
    },
    {
      "cell_type": "code",
      "source": [
        "a = \"i am muralidhar coming from gurudwara by college bus\"\n",
        "print(a)\n",
        "print('muralidhar' in a) #to search an string ina array\n",
        "print('muralidhar' not in a)#to check if an is there or not there in an array\n",
        "print(a[5:15].upper())\n"
      ],
      "metadata": {
        "id": "y54W9GyfbckL",
        "colab": {
          "base_uri": "https://localhost:8080/"
        },
        "outputId": "0acddaf1-7fa2-4471-c726-7e1f17796d83"
      },
      "execution_count": null,
      "outputs": [
        {
          "output_type": "stream",
          "name": "stdout",
          "text": [
            "i am muralidhar coming from gurudwara by college bus\n",
            "True\n",
            "False\n",
            "MURALIDHAR\n"
          ]
        }
      ]
    },
    {
      "cell_type": "markdown",
      "source": [
        ""
      ],
      "metadata": {
        "id": "tiYvh9Lxbcnr"
      }
    },
    {
      "cell_type": "code",
      "source": [
        "\n",
        "a=int(input(\"enter a number\"))\n",
        "if(a>18):\n",
        "  print(\"aligible for voting\")\n",
        "else:\n",
        "  print(\"not eligible for voting\")"
      ],
      "metadata": {
        "id": "KRnR40pDixYE",
        "colab": {
          "base_uri": "https://localhost:8080/",
          "height": 130
        },
        "outputId": "3daa063c-b706-4a69-9fff-fcf07506dd0f"
      },
      "execution_count": null,
      "outputs": [
        {
          "output_type": "error",
          "ename": "SyntaxError",
          "evalue": "ignored",
          "traceback": [
            "\u001b[0;36m  File \u001b[0;32m\"<ipython-input-1-fe6dc89db26d>\"\u001b[0;36m, line \u001b[0;32m1\u001b[0m\n\u001b[0;31m    findout the person is eligible for oting or not\u001b[0m\n\u001b[0m              ^\u001b[0m\n\u001b[0;31mSyntaxError\u001b[0m\u001b[0;31m:\u001b[0m invalid syntax\n"
          ]
        }
      ]
    },
    {
      "cell_type": "markdown",
      "source": [
        ""
      ],
      "metadata": {
        "id": "wRQunQViPSIw"
      }
    },
    {
      "cell_type": "code",
      "source": [
        "#slicing an array\n",
        "a = \"  i am muralidhar coming FRom gurudwara by college bus\"\n",
        "b=a.casefold()\n",
        "print(b)\n",
        "c=a.center()\n",
        "print(c)\n",
        "print(a[:16]) #slice a letter\n",
        "print(a[2:])\n",
        "print(a[-11:-4])#printing an array in reverse order\n",
        "print(a.upper())\n",
        "print(a.lower())\n",
        "print(a.strip()) #remove spaces in  an array\n",
        "print(a.replace('h','J'))\n",
        "print(a.split(\",\"))\n",
        "print('m' in a)\n",
        "for x in 'banana':\n",
        "  print(x)\n",
        "b='banana'\n",
        "print(len(b))\n",
        "c=\"The best things in life are free!\"\n",
        "print('free' in c) #checking if a lettr or a string is present in string \n",
        "if 'free' in c:\n",
        "  print(\"it is present\")\n",
        "if b in c:\n",
        "  print(\"present\")\n",
        "else:\n",
        "  print(\"no\")\n",
        "print(a[5:11].upper())\n",
        "print(a[:3])\n",
        "print(a.replace('a','A'))\n",
        "print(a.split(','))\n",
        "#string methods\n",
        "a='hello'\n",
        "b='world'\n",
        "c=a+b\n",
        "print(c)\n",
        "\n"
      ],
      "metadata": {
        "id": "gPtO9GTQZ2nA",
        "colab": {
          "base_uri": "https://localhost:8080/",
          "height": 252
        },
        "outputId": "ea4b60fd-dd1b-4189-e321-cd70dfa7c17b"
      },
      "execution_count": null,
      "outputs": [
        {
          "output_type": "stream",
          "name": "stdout",
          "text": [
            "  i am muralidhar coming from gurudwara by college bus\n"
          ]
        },
        {
          "output_type": "error",
          "ename": "TypeError",
          "evalue": "ignored",
          "traceback": [
            "\u001b[0;31m---------------------------------------------------------------------------\u001b[0m",
            "\u001b[0;31mTypeError\u001b[0m                                 Traceback (most recent call last)",
            "\u001b[0;32m<ipython-input-72-c6a4fb9455f8>\u001b[0m in \u001b[0;36m<module>\u001b[0;34m()\u001b[0m\n\u001b[1;32m      3\u001b[0m \u001b[0mb\u001b[0m\u001b[0;34m=\u001b[0m\u001b[0ma\u001b[0m\u001b[0;34m.\u001b[0m\u001b[0mcasefold\u001b[0m\u001b[0;34m(\u001b[0m\u001b[0;34m)\u001b[0m\u001b[0;34m\u001b[0m\u001b[0;34m\u001b[0m\u001b[0m\n\u001b[1;32m      4\u001b[0m \u001b[0mprint\u001b[0m\u001b[0;34m(\u001b[0m\u001b[0mb\u001b[0m\u001b[0;34m)\u001b[0m\u001b[0;34m\u001b[0m\u001b[0;34m\u001b[0m\u001b[0m\n\u001b[0;32m----> 5\u001b[0;31m \u001b[0mc\u001b[0m\u001b[0;34m=\u001b[0m\u001b[0ma\u001b[0m\u001b[0;34m.\u001b[0m\u001b[0mcenter\u001b[0m\u001b[0;34m(\u001b[0m\u001b[0;34m)\u001b[0m\u001b[0;34m\u001b[0m\u001b[0;34m\u001b[0m\u001b[0m\n\u001b[0m\u001b[1;32m      6\u001b[0m \u001b[0mprint\u001b[0m\u001b[0;34m(\u001b[0m\u001b[0mc\u001b[0m\u001b[0;34m)\u001b[0m\u001b[0;34m\u001b[0m\u001b[0;34m\u001b[0m\u001b[0m\n\u001b[1;32m      7\u001b[0m \u001b[0mprint\u001b[0m\u001b[0;34m(\u001b[0m\u001b[0ma\u001b[0m\u001b[0;34m[\u001b[0m\u001b[0;34m:\u001b[0m\u001b[0;36m16\u001b[0m\u001b[0;34m]\u001b[0m\u001b[0;34m)\u001b[0m \u001b[0;31m#slice a letter\u001b[0m\u001b[0;34m\u001b[0m\u001b[0;34m\u001b[0m\u001b[0m\n",
            "\u001b[0;31mTypeError\u001b[0m: center() takes at least 1 argument (0 given)"
          ]
        }
      ]
    },
    {
      "cell_type": "code",
      "source": [
        "#string concatenation\n",
        "a=\"hello\"\n",
        "b=\"world\"\n",
        "c=a+ \" \" +b\n",
        "print(c)\n",
        "#format string \n",
        "age=16\n",
        "venky=67\n",
        "loool=9\n",
        "text=\"when i hit {2} i will be eligible {0} for voting and {1} getting drivers licence\"\n",
        "print(text.format(age,venky,loool))\n",
        "d=\"why i am {}here just to {} suffer\"\n",
        "loool=56\n",
        "ditch=75\n",
        "\n",
        "print(d.format(loool,ditch))\n",
        "\n",
        "\n"
      ],
      "metadata": {
        "colab": {
          "base_uri": "https://localhost:8080/"
        },
        "id": "wzk2h84DJ2kO",
        "outputId": "3509b332-aac5-4287-cc89-6fa05b3e3dbd"
      },
      "execution_count": null,
      "outputs": [
        {
          "output_type": "stream",
          "name": "stdout",
          "text": [
            "hello world\n",
            "when i hit 9 i will be eligible 16 for voting and 67 getting drivers licence\n",
            "why i am 56here just to 75 suffer\n"
          ]
        }
      ]
    },
    {
      "cell_type": "code",
      "source": [
        "a=10\n",
        "print(a)\n",
        "print(type(a))\n",
        "b=float(a)\n",
        "print(b)\n",
        "print(type(b))\n",
        "c=str(a)\n",
        "print(c)\n",
        "print(type(c))\n",
        "d=bool(a)\n",
        "print(d)\n",
        "print(type(d))\n",
        "e=complex(a)\n",
        "print(e)\n",
        "print(type(e))"
      ],
      "metadata": {
        "colab": {
          "base_uri": "https://localhost:8080/"
        },
        "id": "gwJYJOsTNolm",
        "outputId": "05b2b4a2-029e-4a39-c498-ef8ee2b40d5a"
      },
      "execution_count": null,
      "outputs": [
        {
          "output_type": "stream",
          "name": "stdout",
          "text": [
            "10\n",
            "<class 'int'>\n",
            "10.0\n",
            "<class 'float'>\n",
            "10\n",
            "<class 'str'>\n",
            "True\n",
            "<class 'bool'>\n",
            "(10+0j)\n",
            "<class 'complex'>\n"
          ]
        }
      ]
    },
    {
      "cell_type": "code",
      "source": [
        "a=[\"appel\",\"black berry\",\"rasberry\"]\n",
        "a.append('orange')\n",
        "print(a)\n",
        "a.insert(3,'goa')\n",
        "print(a)\n",
        "a.sort()\n",
        "print(a.count('rasberry'))\n",
        "print(a.pop(1))\n",
        "print(a.pop(2))\n",
        "a.count()\n",
        "a.remove()\n",
        "a.append()\n",
        "a.insert()\n",
        "a.pop()\n",
        "\n",
        "\n",
        "\n",
        "\n",
        "\n",
        "\n",
        "\n"
      ],
      "metadata": {
        "colab": {
          "base_uri": "https://localhost:8080/",
          "height": 322
        },
        "id": "Un7TPbuUoSku",
        "outputId": "1856c470-2413-4955-900f-055c34468877"
      },
      "execution_count": null,
      "outputs": [
        {
          "output_type": "stream",
          "name": "stdout",
          "text": [
            "['appel', 'black berry', 'rasberry', 'orange']\n",
            "['appel', 'black berry', 'rasberry', 'goa', 'orange']\n",
            "1\n",
            "black berry\n",
            "orange\n"
          ]
        },
        {
          "output_type": "error",
          "ename": "TypeError",
          "evalue": "ignored",
          "traceback": [
            "\u001b[0;31m---------------------------------------------------------------------------\u001b[0m",
            "\u001b[0;31mTypeError\u001b[0m                                 Traceback (most recent call last)",
            "\u001b[0;32m<ipython-input-68-fe60cf4346e6>\u001b[0m in \u001b[0;36m<module>\u001b[0;34m()\u001b[0m\n\u001b[1;32m      8\u001b[0m \u001b[0mprint\u001b[0m\u001b[0;34m(\u001b[0m\u001b[0ma\u001b[0m\u001b[0;34m.\u001b[0m\u001b[0mpop\u001b[0m\u001b[0;34m(\u001b[0m\u001b[0;36m1\u001b[0m\u001b[0;34m)\u001b[0m\u001b[0;34m)\u001b[0m\u001b[0;34m\u001b[0m\u001b[0;34m\u001b[0m\u001b[0m\n\u001b[1;32m      9\u001b[0m \u001b[0mprint\u001b[0m\u001b[0;34m(\u001b[0m\u001b[0ma\u001b[0m\u001b[0;34m.\u001b[0m\u001b[0mpop\u001b[0m\u001b[0;34m(\u001b[0m\u001b[0;36m2\u001b[0m\u001b[0;34m)\u001b[0m\u001b[0;34m)\u001b[0m\u001b[0;34m\u001b[0m\u001b[0;34m\u001b[0m\u001b[0m\n\u001b[0;32m---> 10\u001b[0;31m \u001b[0ma\u001b[0m\u001b[0;34m.\u001b[0m\u001b[0mcount\u001b[0m\u001b[0;34m(\u001b[0m\u001b[0;34m)\u001b[0m\u001b[0;34m\u001b[0m\u001b[0;34m\u001b[0m\u001b[0m\n\u001b[0m\u001b[1;32m     11\u001b[0m \u001b[0ma\u001b[0m\u001b[0;34m.\u001b[0m\u001b[0mremove\u001b[0m\u001b[0;34m(\u001b[0m\u001b[0;34m)\u001b[0m\u001b[0;34m\u001b[0m\u001b[0;34m\u001b[0m\u001b[0m\n\u001b[1;32m     12\u001b[0m \u001b[0ma\u001b[0m\u001b[0;34m.\u001b[0m\u001b[0mappend\u001b[0m\u001b[0;34m(\u001b[0m\u001b[0;34m)\u001b[0m\u001b[0;34m\u001b[0m\u001b[0;34m\u001b[0m\u001b[0m\n",
            "\u001b[0;31mTypeError\u001b[0m: count() takes exactly one argument (0 given)"
          ]
        }
      ]
    },
    {
      "cell_type": "markdown",
      "source": [
        "Usage of mathematical functions in python like math.ceil, floor, fabs, fmod, trunc,\n",
        "pow, sqrt etc."
      ],
      "metadata": {
        "id": "v9hZmWXQRpdA"
      }
    },
    {
      "cell_type": "code",
      "source": [
        ""
      ],
      "metadata": {
        "id": "0HeMuR9sRve_",
        "outputId": "80d6c08e-0966-4987-914b-3f3e821a01bb",
        "colab": {
          "base_uri": "https://localhost:8080/",
          "height": 408
        }
      },
      "execution_count": 6,
      "outputs": [
        {
          "output_type": "stream",
          "name": "stdout",
          "text": [
            "2\n",
            "-6\n",
            "1\n",
            "-5\n",
            "1\n",
            "-7\n",
            "1\n",
            "-6\n",
            "1.6\n",
            "6.3\n",
            "1.0\n",
            "5.6\n"
          ]
        },
        {
          "output_type": "error",
          "ename": "NameError",
          "evalue": "ignored",
          "traceback": [
            "\u001b[0;31m---------------------------------------------------------------------------\u001b[0m",
            "\u001b[0;31mNameError\u001b[0m                                 Traceback (most recent call last)",
            "\u001b[0;32m<ipython-input-6-8327c01b8bc7>\u001b[0m in \u001b[0;36m<module>\u001b[0;34m()\u001b[0m\n\u001b[1;32m     19\u001b[0m \u001b[0;34m\u001b[0m\u001b[0m\n\u001b[1;32m     20\u001b[0m \u001b[0;31m#math.fmod  method returns the remainder (modulo) of x/y.\u001b[0m\u001b[0;34m\u001b[0m\u001b[0;34m\u001b[0m\u001b[0;34m\u001b[0m\u001b[0m\n\u001b[0;32m---> 21\u001b[0;31m \u001b[0mpritn\u001b[0m\u001b[0;34m(\u001b[0m\u001b[0mmath\u001b[0m\u001b[0;34m.\u001b[0m\u001b[0mfmod\u001b[0m\u001b[0;34m(\u001b[0m\u001b[0;36m20\u001b[0m\u001b[0;34m,\u001b[0m\u001b[0;36m5\u001b[0m\u001b[0;34m)\u001b[0m\u001b[0;34m)\u001b[0m\u001b[0;34m\u001b[0m\u001b[0;34m\u001b[0m\u001b[0m\n\u001b[0m",
            "\u001b[0;31mNameError\u001b[0m: name 'pritn' is not defined"
          ]
        }
      ]
    },
    {
      "cell_type": "code",
      "source": [
        "import math \n",
        "#math.ceil returns nearest integer\n",
        "print(math.ceil(1.6))\n",
        "print(math.ceil(1.4))\n",
        "print(math.ceil(-6.3))\n",
        "print(math.ceil(1.0))\n",
        "print(math.ceil(-5.6))\n",
        "\n",
        "print(\"math.floor\")\n",
        "#math.ceil rounds a number DOWN to the nearest integer\n",
        "print(math.floor(1.4))\n",
        "print(math.floor(1.6))\n",
        "print(math.floor(-6.3))\n",
        "print(math.floor(1.0))\n",
        "print(math.floor(-5.6))\n",
        "\n",
        "print('math.fabs')\n",
        "#math.fabs prints the same number\n",
        "print(math.fabs(1.6))\n",
        "print(math.fabs(-6.3))\n",
        "print(math.fabs(1.0))\n",
        "print(math.fabs(-5.6))\n",
        "\n",
        "print('math.fmod')\n",
        "#math.fmod  method returns the remainder (modulo) of x/y.\n",
        "print(math.fmod(21,5))\n",
        "print(math.fmod(5,2))\n",
        "print(math.fmod(3,2))\n",
        "print(math.fmod(30,5))\n",
        "\n",
        "print('math.trunc')\n",
        "#math.trunc remove the decimals.\n",
        "print(math.trunc(1.9))\n",
        "print(math.trunc(2.3))\n",
        "print(math.trunc(5.6))"
      ],
      "metadata": {
        "id": "hDGITBQaTR1H",
        "outputId": "f5d727d0-5b85-4576-bdc0-da4214f0e6c1",
        "colab": {
          "base_uri": "https://localhost:8080/"
        }
      },
      "execution_count": 13,
      "outputs": [
        {
          "output_type": "stream",
          "name": "stdout",
          "text": [
            "2\n",
            "2\n",
            "-6\n",
            "1\n",
            "-5\n",
            "math.floor\n",
            "1\n",
            "1\n",
            "-7\n",
            "1\n",
            "-6\n",
            "math.fabs\n",
            "1.6\n",
            "6.3\n",
            "1.0\n",
            "5.6\n",
            "math.fmod\n",
            "1.0\n",
            "1.0\n",
            "1.0\n",
            "0.0\n",
            "math.trunc\n",
            "1\n",
            "2\n",
            "5\n"
          ]
        }
      ]
    },
    {
      "cell_type": "code",
      "source": [
        "#printing even,odd,even count,odd count.\n",
        "evencount=0\n",
        "oddcount=0\n",
        "a=int(input())\n",
        "b=int(input())\n",
        "for even in range(a,b):\n",
        "  if(even%2==0):\n",
        "    print(even)\n",
        "    evencount=evencount+1\n",
        "print('even count')\n",
        "print(evencount)\n",
        "print('odd')\n",
        "for odd in range(a,b):\n",
        "  if(odd%2!=0):\n",
        "    print(odd)\n",
        "    oddcount=oddcount+1\n",
        "print('odd count')    \n",
        "print(oddcount)\n",
        "\n",
        "import math\n",
        "#factorial of a number\n",
        "a=int(input())\n",
        "print(math.factorial(a))\n",
        "\n",
        "n = int(input())\n",
        "fact = 1\n",
        "for i in range(1,n+1):\n",
        "\tfact = fact * i\n",
        "print (fact)\n",
        "\n",
        "\n"
      ],
      "metadata": {
        "id": "v8YGOzoDZaix",
        "outputId": "82b16fcb-f716-496c-a171-3e304394d1ad",
        "colab": {
          "base_uri": "https://localhost:8080/"
        }
      },
      "execution_count": 46,
      "outputs": [
        {
          "output_type": "stream",
          "name": "stdout",
          "text": [
            "10\n",
            "20\n",
            "10\n",
            "12\n",
            "14\n",
            "16\n",
            "18\n",
            "even count\n",
            "5\n",
            "odd\n",
            "11\n",
            "13\n",
            "15\n",
            "17\n",
            "19\n",
            "odd count\n",
            "5\n",
            "5\n",
            "120\n",
            "5\n",
            "120\n"
          ]
        }
      ]
    },
    {
      "cell_type": "code",
      "source": [
        "310"
      ],
      "metadata": {
        "id": "H8u9q6q4ZGB3"
      },
      "execution_count": null,
      "outputs": []
    }
  ]
}