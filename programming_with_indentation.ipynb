{
  "cells": [
    {
      "cell_type": "markdown",
      "metadata": {
        "id": "view-in-github",
        "colab_type": "text"
      },
      "source": [
        "<a href=\"https://colab.research.google.com/github/Murali090/python-practice/blob/main/programming_with_indentation.ipynb\" target=\"_parent\"><img src=\"https://colab.research.google.com/assets/colab-badge.svg\" alt=\"Open In Colab\"/></a>"
      ]
    },
    {
      "cell_type": "code",
      "execution_count": 22,
      "id": "0ed85207",
      "metadata": {
        "colab": {
          "base_uri": "https://localhost:8080/"
        },
        "id": "0ed85207",
        "outputId": "7296bf0c-b618-4b0c-d223-1fabeed89506"
      },
      "outputs": [
        {
          "output_type": "stream",
          "name": "stdout",
          "text": [
            "enter 1ST number10\n",
            "enter 2nd number 20\n",
            "enter 3rd number30\n",
            "c is greater\n"
          ]
        }
      ],
      "source": [
        "#maximum of 3 numbers dynamic \n",
        "a=int(input(\"enter 1ST number\"))\n",
        "b=int(input(\"enter 2nd number \"))\n",
        "c=int(input(\"enter 3rd number\"))\n",
        "if(a>b and a>c):\n",
        "   print(\"a is greater \")\n",
        "elif(b>a and b>c):\n",
        "   print(\"b is greater \")\n",
        "else:\n",
        "    print(\"c is greater\")\n",
        "        "
      ]
    },
    {
      "cell_type": "markdown",
      "source": [
        "enter 5 subject marks and find which one is greater \n"
      ],
      "metadata": {
        "id": "bjGiuaJ7V0DS"
      },
      "id": "bjGiuaJ7V0DS"
    },
    {
      "cell_type": "code",
      "source": [
        "4a=int(input(\"enter 1ST subject marks\"))\n",
        "b=int(input(\"enter 2nd subject marks\"))\n",
        "c=int(input(\"enter 3rd subject marks\"))\n",
        "d=int(input(\"enter 4th  subject marks\"))\n",
        "e=int(input(\"enter 5th subject marks\"))\n",
        "if(a>b and a>c and a>d and a>e):\n",
        "    print(\"a is highest \")\n",
        "elif(b>a and b>c and b>d and b>e ):\n",
        "    print(\"b is highest\")\n",
        "elif(c>a and c>b and c>d and c>e):\n",
        "   print(\"c is highest \")\n",
        "elif(d>a and d>b and d>c and d>e):\n",
        "   print(\"d is highest\")\n",
        "else:\n",
        "        print(\"e is greater\")\n",
        "sum=a+b+c+d+e\n",
        "avg=(a+b+c+d+e)/5\n",
        "print(\"the sum is\",sum)\n",
        "print(\"the avg\",avg)        "
      ],
      "metadata": {
        "colab": {
          "base_uri": "https://localhost:8080/"
        },
        "id": "wgWTDCMoXZuM",
        "outputId": "dcc38d3b-a528-4812-f7dd-d3b58a26f284"
      },
      "id": "wgWTDCMoXZuM",
      "execution_count": 17,
      "outputs": [
        {
          "output_type": "stream",
          "name": "stdout",
          "text": [
            "enter 1ST subject marks50\n",
            "enter 2nd subject marks60\n",
            "enter 3rd subject marks80\n",
            "enter 4th  subject marks70\n",
            "enter 5th subject marks0\n",
            "c is highest \n",
            "the sum is 260\n",
            "the avg 260.0\n"
          ]
        }
      ]
    },
    {
      "cell_type": "code",
      "source": [
        "import math"
      ],
      "metadata": {
        "id": "OFeKFO7TegD2"
      },
      "id": "OFeKFO7TegD2",
      "execution_count": null,
      "outputs": []
    },
    {
      "cell_type": "markdown",
      "source": [
        "code for triangle 2"
      ],
      "metadata": {
        "id": "EA1mP3egZvJQ"
      },
      "id": "EA1mP3egZvJQ"
    },
    {
      "cell_type": "markdown",
      "source": [
        ""
      ],
      "metadata": {
        "id": "sb1xPdSAao0X"
      },
      "id": "sb1xPdSAao0X"
    },
    {
      "cell_type": "code",
      "source": [
        "a=int(input(\"1st side\"))\n",
        "b=int(input(\"2nd side\"))\n",
        "c=int(input(\"3rd side\"))\n",
        "if(a==b & a==c):\n",
        "  print(\"equilateral triangle\")\n",
        "elif(a==b & a!=c):\n",
        "  print(\"isoceles triangle\")\n",
        "else:\n",
        "  print(\"scalene triangle\")"
      ],
      "metadata": {
        "colab": {
          "base_uri": "https://localhost:8080/"
        },
        "id": "hAOMzEU9Zr2x",
        "outputId": "3c2649a2-576b-4d76-8be1-e9c834a54155"
      },
      "id": "hAOMzEU9Zr2x",
      "execution_count": 15,
      "outputs": [
        {
          "output_type": "stream",
          "name": "stdout",
          "text": [
            "1st side20\n",
            "2nd side10\n",
            "3rd side30\n",
            "isoceles triangle\n"
          ]
        }
      ]
    },
    {
      "cell_type": "code",
      "execution_count": 20,
      "id": "80c569b1",
      "metadata": {
        "colab": {
          "base_uri": "https://localhost:8080/"
        },
        "id": "80c569b1",
        "outputId": "19cb0642-2ba7-4cd2-9286-77392534d9cd"
      },
      "outputs": [
        {
          "output_type": "stream",
          "name": "stdout",
          "text": [
            "60 c is greater\n"
          ]
        }
      ],
      "source": [
        "\n",
        "a=10\n",
        "b=20\n",
        "c=60\n",
        "if(a>b and a>c):\n",
        "        print(\"a is greater \",a)\n",
        "elif(b>a and b>c):\n",
        "        print(\"b is greater \",b)\n",
        "else:\n",
        "    print(c,\"c is greater\")\n",
        "        "
      ]
    },
    {
      "cell_type": "markdown",
      "id": "d8b1daa9",
      "metadata": {
        "id": "d8b1daa9"
      },
      "source": [
        "## findout the person is eligible for voting or not"
      ]
    },
    {
      "cell_type": "code",
      "execution_count": 2,
      "id": "6bd91d8b",
      "metadata": {
        "colab": {
          "base_uri": "https://localhost:8080/"
        },
        "id": "6bd91d8b",
        "outputId": "e66131db-1014-4be8-8379-bf8a4719f33c"
      },
      "outputs": [
        {
          "output_type": "stream",
          "name": "stdout",
          "text": [
            "enter your age20\n",
            "eligible for voting\n"
          ]
        }
      ],
      "source": [
        "a=int(input(\"enter your age\"))  \n",
        "if(a>=18):\n",
        "    print(\"eligible for voting\")\n",
        "else:\n",
        "    print(\"not eligible for voting\")"
      ]
    },
    {
      "cell_type": "markdown",
      "source": [
        "MINIMUM OF THREE NUMBERS\n"
      ],
      "metadata": {
        "id": "DWbu9-Alc6p3"
      },
      "id": "DWbu9-Alc6p3"
    },
    {
      "cell_type": "code",
      "execution_count": 24,
      "id": "17c9aa60",
      "metadata": {
        "colab": {
          "base_uri": "https://localhost:8080/"
        },
        "id": "17c9aa60",
        "outputId": "6674ea67-a3ff-4b3a-8f9c-548ce5a8d0a7"
      },
      "outputs": [
        {
          "output_type": "stream",
          "name": "stdout",
          "text": [
            "1st number20\n",
            "2nd number10\n",
            "3rd number30\n",
            "20.0\n"
          ]
        }
      ],
      "source": [
        "a=int(input(\"1st number\"))\n",
        "b=int(input(\"2nd number\"))\n",
        "c=int(input(\"3rd number\"))\n",
        "d=(a+b+c)/3\n",
        "print(d)"
      ]
    }
  ],
  "metadata": {
    "kernelspec": {
      "display_name": "Python 3 (ipykernel)",
      "language": "python",
      "name": "python3"
    },
    "language_info": {
      "codemirror_mode": {
        "name": "ipython",
        "version": 3
      },
      "file_extension": ".py",
      "mimetype": "text/x-python",
      "name": "python",
      "nbconvert_exporter": "python",
      "pygments_lexer": "ipython3",
      "version": "3.9.7"
    },
    "colab": {
      "name": "programming with indentation.ipynb",
      "provenance": [],
      "collapsed_sections": [],
      "include_colab_link": true
    }
  },
  "nbformat": 4,
  "nbformat_minor": 5
}